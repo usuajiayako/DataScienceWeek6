{
 "cells": [
  {
   "cell_type": "code",
   "execution_count": null,
   "metadata": {},
   "outputs": [],
   "source": [
    "import streamlit as st\n",
    "import pandas as pd\n",
    "import numpy as np\n",
    "from sklearn.metrics import accuracy_score\n",
    "from sklearn.model_selection import train_test_split\n",
    "from sklearn.ensemble import RandomForestClassifier"
   ]
  },
  {
   "cell_type": "code",
   "execution_count": null,
   "metadata": {},
   "outputs": [
    {
     "ename": "",
     "evalue": "",
     "output_type": "error",
     "traceback": [
      "\u001b[1;31mFailed to start the Kernel. \n",
      "\u001b[1;31mKernel base (Python 3.10.6) is not usable. Check the Jupyter output tab for more information. \n",
      "\u001b[1;31mView Jupyter <a href='command:jupyter.viewOutput'>log</a> for further details."
     ]
    }
   ],
   "source": [
    "# load our data\n",
    "df = pd.read_csv('data/diabetes.csv')"
   ]
  },
  {
   "cell_type": "code",
   "execution_count": null,
   "metadata": {},
   "outputs": [
    {
     "ename": "",
     "evalue": "",
     "output_type": "error",
     "traceback": [
      "\u001b[1;31mFailed to start the Kernel. \n",
      "\u001b[1;31mKernel base (Python 3.10.6) is not usable. Check the Jupyter output tab for more information. \n",
      "\u001b[1;31mView Jupyter <a href='command:jupyter.viewOutput'>log</a> for further details."
     ]
    }
   ],
   "source": [
    "#Headings for our data application\n",
    "st.title(\"Diabetes Check Data Application\")\n",
    "st.sidebar.header(\"Patient Data\")\n",
    "st.subheader(\"Statistical Picture of the Data\")\n",
    "st.write(df.describe())"
   ]
  },
  {
   "cell_type": "code",
   "execution_count": null,
   "metadata": {},
   "outputs": [
    {
     "ename": "",
     "evalue": "",
     "output_type": "error",
     "traceback": [
      "\u001b[1;31mFailed to start the Kernel. \n",
      "\u001b[1;31mKernel base (Python 3.10.6) is not usable. Check the Jupyter output tab for more information. \n",
      "\u001b[1;31mView Jupyter <a href='command:jupyter.viewOutput'>log</a> for further details."
     ]
    }
   ],
   "source": [
    "# Setting me department and independent variable\n",
    "X = df.drop([\"Outcome\"], axis = 1)\n",
    "y = df.iloc[:, -1]"
   ]
  },
  {
   "cell_type": "code",
   "execution_count": null,
   "metadata": {},
   "outputs": [
    {
     "ename": "",
     "evalue": "",
     "output_type": "error",
     "traceback": [
      "\u001b[1;31mFailed to start the Kernel. \n",
      "\u001b[1;31mKernel base (Python 3.10.6) is not usable. Check the Jupyter output tab for more information. \n",
      "\u001b[1;31mView Jupyter <a href='command:jupyter.viewOutput'>log</a> for further details."
     ]
    }
   ],
   "source": [
    "# Data splitting\n",
    "X_train, X_test, y_train, y_test = train_test_split(X, y, test_size = 0.20, random_state = 0)"
   ]
  },
  {
   "cell_type": "code",
   "execution_count": null,
   "metadata": {},
   "outputs": [
    {
     "ename": "",
     "evalue": "",
     "output_type": "error",
     "traceback": [
      "\u001b[1;31mFailed to start the Kernel. \n",
      "\u001b[1;31mKernel base (Python 3.10.6) is not usable. Check the Jupyter output tab for more information. \n",
      "\u001b[1;31mView Jupyter <a href='command:jupyter.viewOutput'>log</a> for further details."
     ]
    }
   ],
   "source": [
    "def user_report():\n",
    "    pregnancies = st.sidebar.slider(\"Pregnancies\", 0, 17, 4)\n",
    "    glucose = st.sidebar.slider(\"Glucose\", 0, 200, 120)\n",
    "    bp = st.sidebar.slider(\"BloodPressure\", 0, 122, 70)\n",
    "    skinthickness = st.sidebar.slider(\"SkinThickness\", 0, 100, 20)\n",
    "    insulin = st.sidebar.slider(\"Insulin\", 0, 846, 80)\n",
    "    bmi = st.sidebar.slider(\"BMI\", 0, 67, 21)\n",
    "    dpf = st.sidebar.slider(\"DiabetesPedigreeFunction\", 0.0, 2.4, 0.47)\n",
    "    age = st.sidebar.slider(\"Age\", 21, 88, 33)\n",
    "    user_report_data = {\n",
    "        \"Pregnancies\": pregnancies,\n",
    "        \"Glucose\" : glucose,\n",
    "        \"BloodPressure\" : bp,\n",
    "        \"SkinThickness\" : skinthickness,\n",
    "        \"Insulin\" : insulin,\n",
    "        \"BMI\" : bmi,\n",
    "        \"DiabetesPedigreeFunction\" : dpf,\n",
    "        \"Age\" : age\n",
    "    }\n",
    "    report_data = pd.DataFrame(user_report_data, index = [0])\n",
    "    return report_data\n"
   ]
  },
  {
   "cell_type": "code",
   "execution_count": null,
   "metadata": {},
   "outputs": [
    {
     "ename": "",
     "evalue": "",
     "output_type": "error",
     "traceback": [
      "\u001b[1;31mFailed to start the Kernel. \n",
      "\u001b[1;31mKernel base (Python 3.10.6) is not usable. Check the Jupyter output tab for more information. \n",
      "\u001b[1;31mView Jupyter <a href='command:jupyter.viewOutput'>log</a> for further details."
     ]
    }
   ],
   "source": [
    "user_data = user_report()\n",
    "st.header(\"Patient Data\")\n",
    "st.write(user_data)"
   ]
  },
  {
   "cell_type": "code",
   "execution_count": null,
   "metadata": {},
   "outputs": [
    {
     "ename": "",
     "evalue": "",
     "output_type": "error",
     "traceback": [
      "\u001b[1;31mFailed to start the Kernel. \n",
      "\u001b[1;31mKernel base (Python 3.10.6) is not usable. Check the Jupyter output tab for more information. \n",
      "\u001b[1;31mView Jupyter <a href='command:jupyter.viewOutput'>log</a> for further details."
     ]
    }
   ],
   "source": [
    "rf = RandomForestClassifier()\n",
    "rf.fit(X_train, y_train)\n",
    "user_result = rf.predict(user_data)"
   ]
  },
  {
   "cell_type": "code",
   "execution_count": null,
   "metadata": {},
   "outputs": [
    {
     "ename": "",
     "evalue": "",
     "output_type": "error",
     "traceback": [
      "\u001b[1;31mFailed to start the Kernel. \n",
      "\u001b[1;31mKernel base (Python 3.10.6) is not usable. Check the Jupyter output tab for more information. \n",
      "\u001b[1;31mView Jupyter <a href='command:jupyter.viewOutput'>log</a> for further details."
     ]
    }
   ],
   "source": [
    "st.subheader(\"Yout Diabeties Report: \")\n",
    "output = \"\"\n",
    "if user_result[0] == 0:\n",
    "    output = \"You are not diabetic\"\n",
    "else:\n",
    "    output = \"You are diabetic\"\n",
    "st.title(output)\n",
    "st.subheader(\"Accuracy: \")\n",
    "st.write(str(accuracy_score(y_test, rf.predict(X_test))*100)+\"%\")"
   ]
  }
 ],
 "metadata": {
  "kernelspec": {
   "display_name": "Python 3.10.6 64-bit ('base')",
   "language": "python",
   "name": "python3"
  },
  "language_info": {
   "codemirror_mode": {
    "name": "ipython",
    "version": 3
   },
   "file_extension": ".py",
   "mimetype": "text/x-python",
   "name": "python",
   "nbconvert_exporter": "python",
   "pygments_lexer": "ipython3",
   "version": "3.10.6"
  },
  "orig_nbformat": 4,
  "vscode": {
   "interpreter": {
    "hash": "bbe025b43fe3b723cfc6366ff12a51e9ea2261f29c90b16d69db3ad4b0a3acce"
   }
  }
 },
 "nbformat": 4,
 "nbformat_minor": 2
}
